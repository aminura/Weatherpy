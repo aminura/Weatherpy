{
 "cells": [
  {
   "cell_type": "code",
   "execution_count": 14,
   "metadata": {},
   "outputs": [
    {
     "ename": "ModuleNotFoundError",
     "evalue": "No module named 'api_keys'",
     "output_type": "error",
     "traceback": [
      "\u001b[0;31m---------------------------------------------------------------------------\u001b[0m",
      "\u001b[0;31mModuleNotFoundError\u001b[0m                       Traceback (most recent call last)",
      "\u001b[0;32m<ipython-input-14-1d999b796d54>\u001b[0m in \u001b[0;36m<module>\u001b[0;34m\u001b[0m\n\u001b[1;32m      9\u001b[0m \u001b[0;34m\u001b[0m\u001b[0m\n\u001b[1;32m     10\u001b[0m \u001b[0;31m# Import API key\u001b[0m\u001b[0;34m\u001b[0m\u001b[0;34m\u001b[0m\u001b[0;34m\u001b[0m\u001b[0m\n\u001b[0;32m---> 11\u001b[0;31m \u001b[0;32mfrom\u001b[0m \u001b[0mapi_keys\u001b[0m \u001b[0;32mimport\u001b[0m \u001b[0mapi_key\u001b[0m\u001b[0;34m\u001b[0m\u001b[0;34m\u001b[0m\u001b[0m\n\u001b[0m\u001b[1;32m     12\u001b[0m \u001b[0;34m\u001b[0m\u001b[0m\n\u001b[1;32m     13\u001b[0m \u001b[0;31m# Incorporated citipy to determine city based on latitude and longitude\u001b[0m\u001b[0;34m\u001b[0m\u001b[0;34m\u001b[0m\u001b[0;34m\u001b[0m\u001b[0m\n",
      "\u001b[0;31mModuleNotFoundError\u001b[0m: No module named 'api_keys'"
     ]
    }
   ],
   "source": [
    "# Dependencies and Setup\n",
    "import matplotlib.pyplot as plt\n",
    "import pandas as pd\n",
    "import numpy as np\n",
    "import requests\n",
    "import time\n",
    "import random\n",
    "import json\n",
    "\n",
    "# Import API key\n",
    "from api_keys import api_key\n",
    "\n",
    "# Incorporated citipy to determine city based on latitude and longitude\n",
    "from citipy import citipy\n",
    "\n",
    "# Output File (CSV)\n",
    "output_data_file = \"output_data/cities.csv\"\n",
    "\n",
    "# Range of latitudes and longitudes\n",
    "lat_range = (-90, 90)\n",
    "lng_range = (-180, 180)"
   ]
  },
  {
   "cell_type": "markdown",
   "metadata": {},
   "source": [
    "# Generate Cities List"
   ]
  },
  {
   "cell_type": "code",
   "execution_count": null,
   "metadata": {},
   "outputs": [],
   "source": [
    "\n",
    "#Randomly generate latitude and longitude numbers. lookup nearest city using citipy\n",
    "\n",
    "# Empty series to hold all the names of cities and countries\n",
    "randCity = []\n",
    "randCountry = []\n",
    "loopcnt = 0\n",
    "\n",
    "#Loop through until at least 500 unique city names are found\n",
    "while len(randCity) < 500 :\n",
    "    # Loop counter to track number of loops made\n",
    "    loopcnt +=1\n",
    "    \n",
    "    # Randomly generate latitude\n",
    "    lat_pos = random.randint(0,2)\n",
    "    base_lat = random.randint(0,91)\n",
    "    dec_lat = random.random()/100\n",
    "    lat = base_lat + dec_lat\n",
    "    if lat_pos == 1:\n",
    "        lat = lat * -1\n",
    "    #print(f\"The lattitude is: {lat}\") \n",
    "    \n",
    "    # Randomly generate longitude\n",
    "    lng_pos = random.randint(0,2)\n",
    "    base_lng = random.randint(0,181)\n",
    "    dec_lng = random.random()/100\n",
    "    lng = base_lng + dec_lng\n",
    "    if lng_pos == 1:\n",
    "        lng = lng * -1\n",
    "    #print(f\"The longitude is: {lng}\") \n",
    "    \n",
    "    # Call citipy file to get nearest city based on random lat and lng\n",
    "    city = citipy.nearest_city(lat, lng)\n",
    "    \n",
    "    # Test to see if the random city is already in the list, if not, add it to the city and country lists\n",
    "    foundCity = False\n",
    "    for j in range(len(randCity)):\n",
    "        if city.city_name == randCity[j]:\n",
    "            foundCity = True\n",
    "    if foundCity==False  :   \n",
    "        randCity.append(city.city_name)\n",
    "        randCountry.append(city.country_code)\n",
    "        # Print the city count to confirm sufficient count\n",
    "len(cities)"
   ]
  },
  {
   "cell_type": "markdown",
   "metadata": {},
   "source": [
    "# Perform API Calls"
   ]
  },
  {
   "cell_type": "code",
   "execution_count": null,
   "metadata": {},
   "outputs": [],
   "source": [
    "# Build query Url\n",
    "base_url = \"https://api.openweathermap.org/data/2.5/weather?\"\n",
    "api_key = api_key\n",
    "units = \"imperial\"\n",
    "\n",
    "query_url = base_url + \"appid=\" + api_key + \"&units=\" + units + \"&q=\""
   ]
  },
  {
   "cell_type": "code",
   "execution_count": null,
   "metadata": {},
   "outputs": [],
   "source": [
    "# Loop through the list of cities and perform request for data on each\n",
    "search_data = []\n",
    "cityList = []\n",
    "countryList = []\n",
    "\n",
    "searchCnt = 0\n",
    "print(\"Begin API Call to OpenWeather Database \")\n",
    "print(\"---------------------------------------\")\n",
    "for city in randCity:\n",
    "    searchCnt += 1\n",
    "    print(f\"Processing record {searchCnt} for the city: {city}\")   \n",
    "    response = requests.get(query_url + city).json()\n",
    "    searchCityID = response.get(\"id\")\n",
    "    if response.get(\"id\"):\n",
    "        print(f\"     Record found for city: {city}    city id: {searchCityID}\")\n",
    "        search_data.append(response)\n",
    "        cityList.append(city)\n",
    "        countryList.append(randCountry[searchCnt-1])\n",
    "    else:\n",
    "        print(f\"     No weather record found for city: {city}\")\n",
    "          \n",
    "print(\"---------------------------------------\")\n",
    "print(\"Processing Complete\")"
   ]
  },
  {
   "cell_type": "code",
   "execution_count": 11,
   "metadata": {},
   "outputs": [
    {
     "ename": "NameError",
     "evalue": "name 'search_data' is not defined",
     "output_type": "error",
     "traceback": [
      "\u001b[0;31m---------------------------------------------------------------------------\u001b[0m",
      "\u001b[0;31mNameError\u001b[0m                                 Traceback (most recent call last)",
      "\u001b[0;32m<ipython-input-11-07af2dbc6c74>\u001b[0m in \u001b[0;36m<module>\u001b[0;34m\u001b[0m\n\u001b[1;32m      1\u001b[0m \u001b[0;31m#print(json.dumps(search_data[2], indent=4))\u001b[0m\u001b[0;34m\u001b[0m\u001b[0;34m\u001b[0m\u001b[0;34m\u001b[0m\u001b[0m\n\u001b[0;32m----> 2\u001b[0;31m \u001b[0mlen\u001b[0m\u001b[0;34m(\u001b[0m\u001b[0msearch_data\u001b[0m\u001b[0;34m)\u001b[0m\u001b[0;34m\u001b[0m\u001b[0;34m\u001b[0m\u001b[0m\n\u001b[0m",
      "\u001b[0;31mNameError\u001b[0m: name 'search_data' is not defined"
     ]
    }
   ],
   "source": [
    "#print(json.dumps(search_data[2], indent=4))\n",
    "len(search_data)"
   ]
  },
  {
   "cell_type": "code",
   "execution_count": 10,
   "metadata": {},
   "outputs": [
    {
     "ename": "NameError",
     "evalue": "name 'search_data' is not defined",
     "output_type": "error",
     "traceback": [
      "\u001b[0;31m---------------------------------------------------------------------------\u001b[0m",
      "\u001b[0;31mNameError\u001b[0m                                 Traceback (most recent call last)",
      "\u001b[0;32m<ipython-input-10-d0749e459dbd>\u001b[0m in \u001b[0;36m<module>\u001b[0;34m\u001b[0m\n\u001b[1;32m      1\u001b[0m \u001b[0;31m# Use list comprehension to gather necessary data series\u001b[0m\u001b[0;34m\u001b[0m\u001b[0;34m\u001b[0m\u001b[0;34m\u001b[0m\u001b[0m\n\u001b[1;32m      2\u001b[0m \u001b[0;34m\u001b[0m\u001b[0m\n\u001b[0;32m----> 3\u001b[0;31m \u001b[0mlat_data\u001b[0m \u001b[0;34m=\u001b[0m \u001b[0;34m[\u001b[0m\u001b[0mdata\u001b[0m\u001b[0;34m.\u001b[0m\u001b[0mget\u001b[0m\u001b[0;34m(\u001b[0m\u001b[0;34m\"coord\"\u001b[0m\u001b[0;34m)\u001b[0m\u001b[0;34m.\u001b[0m\u001b[0mget\u001b[0m\u001b[0;34m(\u001b[0m\u001b[0;34m\"lat\"\u001b[0m\u001b[0;34m)\u001b[0m \u001b[0;32mfor\u001b[0m \u001b[0mdata\u001b[0m \u001b[0;32min\u001b[0m \u001b[0msearch_data\u001b[0m\u001b[0;34m]\u001b[0m\u001b[0;34m\u001b[0m\u001b[0;34m\u001b[0m\u001b[0m\n\u001b[0m\u001b[1;32m      4\u001b[0m \u001b[0mlng_data\u001b[0m \u001b[0;34m=\u001b[0m \u001b[0;34m[\u001b[0m\u001b[0mdata\u001b[0m\u001b[0;34m.\u001b[0m\u001b[0mget\u001b[0m\u001b[0;34m(\u001b[0m\u001b[0;34m\"coord\"\u001b[0m\u001b[0;34m)\u001b[0m\u001b[0;34m.\u001b[0m\u001b[0mget\u001b[0m\u001b[0;34m(\u001b[0m\u001b[0;34m\"lon\"\u001b[0m\u001b[0;34m)\u001b[0m \u001b[0;32mfor\u001b[0m \u001b[0mdata\u001b[0m \u001b[0;32min\u001b[0m \u001b[0msearch_data\u001b[0m\u001b[0;34m]\u001b[0m\u001b[0;34m\u001b[0m\u001b[0;34m\u001b[0m\u001b[0m\n\u001b[1;32m      5\u001b[0m \u001b[0mtemp_data\u001b[0m \u001b[0;34m=\u001b[0m \u001b[0;34m[\u001b[0m\u001b[0mdata\u001b[0m\u001b[0;34m.\u001b[0m\u001b[0mget\u001b[0m\u001b[0;34m(\u001b[0m\u001b[0;34m\"main\"\u001b[0m\u001b[0;34m)\u001b[0m\u001b[0;34m.\u001b[0m\u001b[0mget\u001b[0m\u001b[0;34m(\u001b[0m\u001b[0;34m\"temp\"\u001b[0m\u001b[0;34m)\u001b[0m \u001b[0;32mfor\u001b[0m \u001b[0mdata\u001b[0m \u001b[0;32min\u001b[0m \u001b[0msearch_data\u001b[0m\u001b[0;34m]\u001b[0m\u001b[0;34m\u001b[0m\u001b[0;34m\u001b[0m\u001b[0m\n",
      "\u001b[0;31mNameError\u001b[0m: name 'search_data' is not defined"
     ]
    }
   ],
   "source": [
    "# Use list comprehension to gather necessary data series\n",
    "\n",
    "lat_data = [data.get(\"coord\").get(\"lat\") for data in search_data]\n",
    "lng_data = [data.get(\"coord\").get(\"lon\") for data in search_data]\n",
    "temp_data = [data.get(\"main\").get(\"temp\") for data in search_data]\n",
    "humid_data = [data.get(\"main\").get(\"humidity\") for data in search_data]\n",
    "cloud_data =[data.get(\"clouds\").get(\"all\") for data in search_data]\n",
    "wind_data = [data.get(\"wind\").get(\"speed\") for data in search_data]"
   ]
  },
  {
   "cell_type": "code",
   "execution_count": 12,
   "metadata": {},
   "outputs": [
    {
     "ename": "NameError",
     "evalue": "name 'cityList' is not defined",
     "output_type": "error",
     "traceback": [
      "\u001b[0;31m---------------------------------------------------------------------------\u001b[0m",
      "\u001b[0;31mNameError\u001b[0m                                 Traceback (most recent call last)",
      "\u001b[0;32m<ipython-input-12-5e55086a2570>\u001b[0m in \u001b[0;36m<module>\u001b[0;34m\u001b[0m\n\u001b[1;32m      1\u001b[0m \u001b[0;31m# Create data frame with aggregated data\u001b[0m\u001b[0;34m\u001b[0m\u001b[0;34m\u001b[0m\u001b[0;34m\u001b[0m\u001b[0m\n\u001b[0;32m----> 2\u001b[0;31m weather_data = pd.DataFrame({\"cityName\":cityList,\n\u001b[0m\u001b[1;32m      3\u001b[0m                             \u001b[0;34m\"country\"\u001b[0m\u001b[0;34m:\u001b[0m\u001b[0mcountryList\u001b[0m\u001b[0;34m,\u001b[0m\u001b[0;34m\u001b[0m\u001b[0;34m\u001b[0m\u001b[0m\n\u001b[1;32m      4\u001b[0m                             \u001b[0;34m\"lat\"\u001b[0m\u001b[0;34m:\u001b[0m\u001b[0mlat_data\u001b[0m\u001b[0;34m,\u001b[0m\u001b[0;34m\u001b[0m\u001b[0;34m\u001b[0m\u001b[0m\n\u001b[1;32m      5\u001b[0m                             \u001b[0;34m\"lng\"\u001b[0m\u001b[0;34m:\u001b[0m\u001b[0mlng_data\u001b[0m\u001b[0;34m,\u001b[0m\u001b[0;34m\u001b[0m\u001b[0;34m\u001b[0m\u001b[0m\n",
      "\u001b[0;31mNameError\u001b[0m: name 'cityList' is not defined"
     ]
    }
   ],
   "source": [
    "# Create data frame with aggregated data\n",
    "weather_data = pd.DataFrame({\"cityName\":cityList,\n",
    "                            \"country\":countryList,\n",
    "                            \"lat\":lat_data,\n",
    "                            \"lng\":lng_data,\n",
    "                            \"temp\":temp_data,\n",
    "                            \"humidity\":humid_data,\n",
    "                            \"cloudiness\":cloud_data,\n",
    "                            \"winds\":wind_data})"
   ]
  },
  {
   "cell_type": "code",
   "execution_count": 13,
   "metadata": {},
   "outputs": [
    {
     "ename": "NameError",
     "evalue": "name 'weather_data' is not defined",
     "output_type": "error",
     "traceback": [
      "\u001b[0;31m---------------------------------------------------------------------------\u001b[0m",
      "\u001b[0;31mNameError\u001b[0m                                 Traceback (most recent call last)",
      "\u001b[0;32m<ipython-input-13-9f38572516b7>\u001b[0m in \u001b[0;36m<module>\u001b[0;34m\u001b[0m\n\u001b[1;32m      1\u001b[0m \u001b[0;31m# Force column order\u001b[0m\u001b[0;34m\u001b[0m\u001b[0;34m\u001b[0m\u001b[0;34m\u001b[0m\u001b[0m\n\u001b[0;32m----> 2\u001b[0;31m \u001b[0mweather_data\u001b[0m \u001b[0;34m=\u001b[0m \u001b[0mweather_data\u001b[0m\u001b[0;34m[\u001b[0m\u001b[0;34m[\u001b[0m\u001b[0;34m\"cityName\"\u001b[0m\u001b[0;34m,\u001b[0m\u001b[0;34m\"country\"\u001b[0m\u001b[0;34m,\u001b[0m\u001b[0;34m\"lat\"\u001b[0m\u001b[0;34m,\u001b[0m\u001b[0;34m\"lng\"\u001b[0m\u001b[0;34m,\u001b[0m\u001b[0;34m\"temp\"\u001b[0m\u001b[0;34m,\u001b[0m\u001b[0;34m\"humidity\"\u001b[0m\u001b[0;34m,\u001b[0m\u001b[0;34m\"cloudiness\"\u001b[0m\u001b[0;34m,\u001b[0m\u001b[0;34m\"winds\"\u001b[0m\u001b[0;34m]\u001b[0m\u001b[0;34m]\u001b[0m\u001b[0;34m\u001b[0m\u001b[0;34m\u001b[0m\u001b[0m\n\u001b[0m\u001b[1;32m      3\u001b[0m \u001b[0mweather_data\u001b[0m\u001b[0;34m.\u001b[0m\u001b[0mhead\u001b[0m\u001b[0;34m(\u001b[0m\u001b[0;34m)\u001b[0m\u001b[0;34m\u001b[0m\u001b[0;34m\u001b[0m\u001b[0m\n",
      "\u001b[0;31mNameError\u001b[0m: name 'weather_data' is not defined"
     ]
    }
   ],
   "source": [
    "# Force column order\n",
    "weather_data = weather_data[[\"cityName\",\"country\",\"lat\",\"lng\",\"temp\",\"humidity\",\"cloudiness\",\"winds\"]]\n",
    "weather_data.head()"
   ]
  },
  {
   "cell_type": "code",
   "execution_count": null,
   "metadata": {},
   "outputs": [],
   "source": []
  }
 ],
 "metadata": {
  "kernelspec": {
   "display_name": "Python 3",
   "language": "python",
   "name": "python3"
  },
  "language_info": {
   "codemirror_mode": {
    "name": "ipython",
    "version": 3
   },
   "file_extension": ".py",
   "mimetype": "text/x-python",
   "name": "python",
   "nbconvert_exporter": "python",
   "pygments_lexer": "ipython3",
   "version": "3.7.3"
  }
 },
 "nbformat": 4,
 "nbformat_minor": 2
}
